{
  "nbformat": 4,
  "nbformat_minor": 0,
  "metadata": {
    "colab": {
      "name": "Tensor.ipynb",
      "provenance": [],
      "authorship_tag": "ABX9TyPDPZx0ZJWutXE9ZiRmIY1z",
      "include_colab_link": true
    },
    "kernelspec": {
      "name": "python3",
      "display_name": "Python 3"
    }
  },
  "cells": [
    {
      "cell_type": "markdown",
      "metadata": {
        "id": "view-in-github",
        "colab_type": "text"
      },
      "source": [
        "<a href=\"https://colab.research.google.com/github/fjong3/tensor/blob/master/Tensor.ipynb\" target=\"_parent\"><img src=\"https://colab.research.google.com/assets/colab-badge.svg\" alt=\"Open In Colab\"/></a>"
      ]
    },
    {
      "cell_type": "markdown",
      "metadata": {
        "id": "Vj7qEb3ob0pX",
        "colab_type": "text"
      },
      "source": [
        "Using Python, construct a class without importing any modules (such as numpy) given the following guidelines:\n",
        "- Given 2 inputs, data and shape, construct a tensor using nested lists.\n",
        "- A tensor is a general term for n-dimension matrix. (order goes scalar, vector, matrix, tensor)\n",
        "- Data and shape inputs are given as lists of numbers. Data can be any number (float, int, etc.), but shape needs to be a list of positive integers.\n",
        "- Data and shape inputs can be lists of any length.\n",
        "- The constructed tensor can be saved as an instance variable, printed in standard output, or both.\n",
        "- If too many data numbers, cut it off after the tensor fills up. If not enough, pad the tensor w/ zeroes."
      ]
    },
    {
      "cell_type": "markdown",
      "metadata": {
        "id": "OES7G8evcBIp",
        "colab_type": "text"
      },
      "source": [
        "```\n",
        ">>> data0 = [0, 1, 2, 3, 4, 5, 0.1, 0.2, -3]\n",
        ">>> shape0 = [2, 3, 2]\n",
        ">>> tensor0 = Tensor(data0, shape0)\n",
        "\n",
        "output:\n",
        "[[[0, 1], [2, 3], [4, 5]], [[0.1, 0.2], [-3, 0], [0, 0]]]\n",
        "\n",
        ">>> data1 = [0, 1, 2, 3, 4, 5, 0.1, 0.2, -3, -2, -1, 3, 2, 1]\n",
        ">>> shape1 = [5, 2]\n",
        ">>> tensor1 = Tensor(data1, shape1)\n",
        "\n",
        "output:\n",
        "[[0, 1], [2, 3], [4, 5], [0.1, 0.2], [-3, -2]]\n",
        "```"
      ]
    },
    {
      "cell_type": "code",
      "metadata": {
        "id": "DAHwGIzVYgxU",
        "colab_type": "code",
        "colab": {}
      },
      "source": [
        "from collections import deque"
      ],
      "execution_count": 1,
      "outputs": []
    },
    {
      "cell_type": "code",
      "metadata": {
        "id": "OakeAy8YTzWC",
        "colab_type": "code",
        "colab": {}
      },
      "source": [
        "class Tensor():\n",
        "\n",
        "  def __init__(self, data, shape):\n",
        "    #self.data = data\n",
        "    self.data = deque(data) # deque implementation if allowed\n",
        "    self.shape = shape \n",
        "    self.tensor = self.shape_data(data, shape)\n",
        "\n",
        "  def shape_data (self, data, shape):\n",
        "    # check empty list \n",
        "    if not shape:\n",
        "      return []    \n",
        "    # check negative value or 0 in shape\n",
        "    for i in shape:\n",
        "      if i <= 0:\n",
        "        raise ValueError('Shape cannot be a negative number or 0')\n",
        "\n",
        "    # Recursive list builder\n",
        "    listbuilder = []\n",
        "    for x in range (shape[0]):\n",
        "      if len(shape) > 1:\n",
        "        listbuilder.append(self.shape_data(data, shape[1:]))\n",
        "        continue\n",
        "      listbuilder.append(self.Popleftor0(self.data))\n",
        "    return listbuilder\n",
        "\n",
        "  # Custom function for popping left or default 0\n",
        "  def Popleftor0(self, data):\n",
        "    if not data:\n",
        "      return 0\n",
        "    #return data.pop(0)\n",
        "    return data.popleft() # deque implementation if allowed\n",
        "\n",
        "  def printTensor(self):\n",
        "    print(self.tensor)"
      ],
      "execution_count": 2,
      "outputs": []
    },
    {
      "cell_type": "code",
      "metadata": {
        "colab_type": "code",
        "id": "XR-n4c_gd7AM",
        "colab": {
          "base_uri": "https://localhost:8080/",
          "height": 34
        },
        "outputId": "00df2f48-d7b8-4b03-f2da-ac8b518359bc"
      },
      "source": [
        "data0 = [0, 1, 2, 3, 4, 5, 0.1, 0.2, -3]\n",
        "shape0 = [2, 3, 2,]\n",
        "tensor0 = Tensor(data0, shape0)\n",
        "tensor0.printTensor()"
      ],
      "execution_count": 5,
      "outputs": [
        {
          "output_type": "stream",
          "text": [
            "[[[0, 1], [2, 3], [4, 5]], [[0.1, 0.2], [-3, 0], [0, 0]]]\n"
          ],
          "name": "stdout"
        }
      ]
    },
    {
      "cell_type": "code",
      "metadata": {
        "colab_type": "code",
        "id": "sLH4RrwpdEs8",
        "colab": {
          "base_uri": "https://localhost:8080/",
          "height": 34
        },
        "outputId": "dec0c934-d873-4963-e070-5e4b663aaaa7"
      },
      "source": [
        "data1 = [0, 1, 2, 3, 4, 5, 0.1, 0.2, -3, -2, -1, 3, 2, 1]\n",
        "shape1 = [5, 2]\n",
        "tensor1 = Tensor(data1, shape1)\n",
        "tensor1.printTensor()"
      ],
      "execution_count": 6,
      "outputs": [
        {
          "output_type": "stream",
          "text": [
            "[[0, 1], [2, 3], [4, 5], [0.1, 0.2], [-3, -2]]\n"
          ],
          "name": "stdout"
        }
      ]
    }
  ]
}